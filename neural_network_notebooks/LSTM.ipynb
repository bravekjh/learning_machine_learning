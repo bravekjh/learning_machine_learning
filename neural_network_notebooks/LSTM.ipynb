{
 "cells": [
  {
   "cell_type": "code",
   "execution_count": 13,
   "metadata": {
    "collapsed": true
   },
   "outputs": [],
   "source": [
    "import numpy as np\n",
    "import tensorflow as tf\n",
    "import matplotlib.pyplot as plt\n",
    "import seaborn as sb"
   ]
  },
  {
   "cell_type": "code",
   "execution_count": 76,
   "metadata": {},
   "outputs": [
    {
     "name": "stdout",
     "output_type": "stream",
     "text": [
      "(1, 250)\n"
     ]
    }
   ],
   "source": [
    "# X = np.linspace(0, 100, 250)[:,np.newaxis]\n",
    "X = np.linspace(0, 100, 250)[np.newaxis,:]\n",
    "Y = np.sin(X)\n",
    "print(X.shape)"
   ]
  },
  {
   "cell_type": "code",
   "execution_count": 77,
   "metadata": {},
   "outputs": [
    {
     "data": {
      "image/png": "[encoded data removed]",
      "text/plain": [
       "<matplotlib.figure.Figure at 0x1262e3128>"
      ]
     },
     "metadata": {},
     "output_type": "display_data"
    }
   ],
   "source": [
    "plt.plot(X, Y)\n",
    "plt.show()"
   ]
  },
  {
   "cell_type": "code",
   "execution_count": 5,
   "metadata": {
    "collapsed": true
   },
   "outputs": [],
   "source": [
    "tf.reset_default_graph()\n",
    "config = tf.ConfigProto()\n",
    "session = tf.Session(config=config)"
   ]
  },
  {
   "cell_type": "code",
   "execution_count": 73,
   "metadata": {
    "collapsed": true
   },
   "outputs": [],
   "source": [
    "def lstm_model(X, **kwargs):\n",
    "    N, D = X[0].shape\n",
    "    x = tf.placeholder(tf.float32, shape=X.shape)\n",
    "    wx = tf.Variable(tf.random_normal([D, 4 * kwargs['H']], stddev=kwargs['stddev']))\n",
    "    wh = tf.Variable(tf.random_normal([kwargs['H'], 4 * kwargs['H']], stddev=kwargs['stddev']))\n",
    "    b = tf.Variable(tf.zeros([4 * kwargs['H']]))\n",
    "    prev_c = tf.Variable(tf.random_normal([N, kwargs['H']], stddev=kwargs['stddev']))\n",
    "    prev_h = tf.Variable(tf.random_normal([N , kwargs['H']], stddev=kwargs['stddev']))\n",
    "    \n",
    "    lstm_step(x=x, prev_h=prev_h, prev_c=prev_c, wx=wx, wh=wh, b=b)\n",
    "    \n",
    "\n",
    "def lstm_step(**kwargs):\n",
    "    x, prev_h, prev_c, wx, wh, b = kwargs['x'], kwargs['prev_h'], kwargs['prev_c'], kwargs['wx'], kwargs['wh'], kwargs['b'] \n",
    "    a = tf.matmul(x, wx) + tf.matmul(prev_h, wh) + b\n",
    "    ai, af, ao, ag = tf.split(a, 4, axis=1)\n",
    "    i_g, f_g, o_g, g_g = tf.sigmoid(ai), tf.sigmoid(af), tf.sigmoid(ao), tf.tanh(ag)\n",
    "    next_c = f_g * prev_c + i_g * g_g\n",
    "    next_h = o_g * tf.tanh(next_c)\n",
    "    return next_h"
   ]
  },
  {
   "cell_type": "code",
   "execution_count": 78,
   "metadata": {},
   "outputs": [
    {
     "ename": "AttributeError",
     "evalue": "'NoneType' object has no attribute 'shape'",
     "output_type": "error",
     "traceback": [
      "\u001b[0;31m---------------------------------------------------------------------------\u001b[0m",
      "\u001b[0;31mAttributeError\u001b[0m                            Traceback (most recent call last)",
      "\u001b[0;32m<ipython-input-78-398f00807717>\u001b[0m in \u001b[0;36m<module>\u001b[0;34m()\u001b[0m\n\u001b[1;32m      1\u001b[0m \u001b[0mo\u001b[0m \u001b[0;34m=\u001b[0m \u001b[0mlstm_model\u001b[0m\u001b[0;34m(\u001b[0m\u001b[0mX\u001b[0m\u001b[0;34m,\u001b[0m \u001b[0mH\u001b[0m\u001b[0;34m=\u001b[0m\u001b[0;36m100\u001b[0m\u001b[0;34m,\u001b[0m \u001b[0mstddev\u001b[0m\u001b[0;34m=\u001b[0m\u001b[0;36m0.5\u001b[0m\u001b[0;34m)\u001b[0m\u001b[0;34m\u001b[0m\u001b[0m\n\u001b[0;32m----> 2\u001b[0;31m \u001b[0mprint\u001b[0m\u001b[0;34m(\u001b[0m\u001b[0mo\u001b[0m\u001b[0;34m.\u001b[0m\u001b[0mshape\u001b[0m\u001b[0;34m)\u001b[0m\u001b[0;34m\u001b[0m\u001b[0m\n\u001b[0m",
      "\u001b[0;31mAttributeError\u001b[0m: 'NoneType' object has no attribute 'shape'"
     ]
    }
   ],
   "source": [
    "o = lstm_model(X, H=100, stddev=0.5)"
   ]
  }
 ],
 "metadata": {
  "kernelspec": {
   "display_name": "Python 2",
   "language": "python",
   "name": "python2"
  },
  "language_info": {
   "codemirror_mode": {
    "name": "ipython",
    "version": 2
   },
   "file_extension": ".py",
   "mimetype": "text/x-python",
   "name": "python",
   "nbconvert_exporter": "python",
   "pygments_lexer": "ipython2",
   "version": "2.7.13"
  }
 },
 "nbformat": 4,
 "nbformat_minor": 2
}
