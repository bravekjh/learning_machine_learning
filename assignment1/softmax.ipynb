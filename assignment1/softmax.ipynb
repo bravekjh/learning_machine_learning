{
 "cells": [
  {
   "cell_type": "markdown",
   "metadata": {
    "deletable": true,
    "editable": true
   },
   "source": [
    "# Softmax exercise\n",
    "\n",
    "*Complete and hand in this completed worksheet (including its outputs and any supporting code outside of the worksheet) with your assignment submission. For more details see the [assignments page](http://vision.stanford.edu/teaching/cs231n/assignments.html) on the course website.*\n",
    "\n",
    "This exercise is analogous to the SVM exercise. You will:\n",
    "\n",
    "- implement a fully-vectorized **loss function** for the Softmax classifier\n",
    "- implement the fully-vectorized expression for its **analytic gradient**\n",
    "- **check your implementation** with numerical gradient\n",
    "- use a validation set to **tune the learning rate and regularization** strength\n",
    "- **optimize** the loss function with **SGD**\n",
    "- **visualize** the final learned weights\n"
   ]
  },
  {
   "cell_type": "code",
   "execution_count": 1,
   "metadata": {
    "collapsed": false,
    "deletable": true,
    "editable": true
   },
   "outputs": [
    {
     "name": "stdout",
     "output_type": "stream",
     "text": [
      "The autoreload extension is already loaded. To reload it, use:\n",
      "  %reload_ext autoreload\n"
     ]
    }
   ],
   "source": [
    "import random\n",
    "import numpy as np\n",
    "from cs231n.data_utils import load_CIFAR10\n",
    "import matplotlib.pyplot as plt\n",
    "%matplotlib inline\n",
    "plt.rcParams['figure.figsize'] = (10.0, 8.0) # set default size of plots\n",
    "plt.rcParams['image.interpolation'] = 'nearest'\n",
    "plt.rcParams['image.cmap'] = 'gray'\n",
    "\n",
    "# for auto-reloading extenrnal modules\n",
    "# see http://stackoverflow.com/questions/1907993/autoreload-of-modules-in-ipython\n",
    "%load_ext autoreload\n",
    "%autoreload 2"
   ]
  },
  {
   "cell_type": "code",
   "execution_count": 2,
   "metadata": {
    "collapsed": false,
    "deletable": true,
    "editable": true
   },
   "outputs": [
    {
     "name": "stdout",
     "output_type": "stream",
     "text": [
      "Train data shape:  (49000, 3073)\n",
      "Train labels shape:  (49000,)\n",
      "Validation data shape:  (1000, 3073)\n",
      "Validation labels shape:  (1000,)\n",
      "Test data shape:  (1000, 3073)\n",
      "Test labels shape:  (1000,)\n",
      "dev data shape:  (500, 3073)\n",
      "dev labels shape:  (500,)\n"
     ]
    }
   ],
   "source": [
    "def get_CIFAR10_data(num_training=49000, num_validation=1000, num_test=1000, num_dev=500):\n",
    "  \"\"\"\n",
    "  Load the CIFAR-10 dataset from disk and perform preprocessing to prepare\n",
    "  it for the linear classifier. These are the same steps as we used for the\n",
    "  SVM, but condensed to a single function.  \n",
    "  \"\"\"\n",
    "  # Load the raw CIFAR-10 data\n",
    "  cifar10_dir = 'cs231n/datasets/cifar-10-batches-py'\n",
    "  X_train, y_train, X_test, y_test = load_CIFAR10(cifar10_dir)\n",
    "  \n",
    "  # subsample the data\n",
    "  mask = range(num_training, num_training + num_validation)\n",
    "  X_val = X_train[mask]\n",
    "  y_val = y_train[mask]\n",
    "  mask = range(num_training)\n",
    "  X_train = X_train[mask]\n",
    "  y_train = y_train[mask]\n",
    "  mask = range(num_test)\n",
    "  X_test = X_test[mask]\n",
    "  y_test = y_test[mask]\n",
    "  mask = np.random.choice(num_training, num_dev, replace=False)\n",
    "  X_dev = X_train[mask]\n",
    "  y_dev = y_train[mask]\n",
    "  \n",
    "  # Preprocessing: reshape the image data into rows\n",
    "  X_train = np.reshape(X_train, (X_train.shape[0], -1))\n",
    "  X_val = np.reshape(X_val, (X_val.shape[0], -1))\n",
    "  X_test = np.reshape(X_test, (X_test.shape[0], -1))\n",
    "  X_dev = np.reshape(X_dev, (X_dev.shape[0], -1))\n",
    "  \n",
    "  # Normalize the data: subtract the mean image\n",
    "  mean_image = np.mean(X_train, axis = 0)\n",
    "  X_train -= mean_image\n",
    "  X_val -= mean_image\n",
    "  X_test -= mean_image\n",
    "  X_dev -= mean_image\n",
    "  \n",
    "  # add bias dimension and transform into columns\n",
    "  X_train = np.hstack([X_train, np.ones((X_train.shape[0], 1))])\n",
    "  X_val = np.hstack([X_val, np.ones((X_val.shape[0], 1))])\n",
    "  X_test = np.hstack([X_test, np.ones((X_test.shape[0], 1))])\n",
    "  X_dev = np.hstack([X_dev, np.ones((X_dev.shape[0], 1))])\n",
    "  \n",
    "  return X_train, y_train, X_val, y_val, X_test, y_test, X_dev, y_dev\n",
    "\n",
    "\n",
    "# Invoke the above function to get our data.\n",
    "X_train, y_train, X_val, y_val, X_test, y_test, X_dev, y_dev = get_CIFAR10_data()\n",
    "print 'Train data shape: ', X_train.shape\n",
    "print 'Train labels shape: ', y_train.shape\n",
    "print 'Validation data shape: ', X_val.shape\n",
    "print 'Validation labels shape: ', y_val.shape\n",
    "print 'Test data shape: ', X_test.shape\n",
    "print 'Test labels shape: ', y_test.shape\n",
    "print 'dev data shape: ', X_dev.shape\n",
    "print 'dev labels shape: ', y_dev.shape"
   ]
  },
  {
   "cell_type": "markdown",
   "metadata": {
    "deletable": true,
    "editable": true
   },
   "source": [
    "## Softmax Classifier\n",
    "\n",
    "Your code for this section will all be written inside **cs231n/classifiers/softmax.py**. \n"
   ]
  },
  {
   "cell_type": "code",
   "execution_count": 76,
   "metadata": {
    "collapsed": false,
    "deletable": true,
    "editable": true
   },
   "outputs": [
    {
     "name": "stdout",
     "output_type": "stream",
     "text": [
      "loss: 2.363455\n",
      "sanity check: 2.302585\n"
     ]
    }
   ],
   "source": [
    "# First implement the naive softmax loss function with nested loops.\n",
    "# Open the file cs231n/classifiers/softmax.py and implement the\n",
    "# softmax_loss_naive function.\n",
    "\n",
    "from cs231n.classifiers.softmax import softmax_loss_naive\n",
    "import time\n",
    "\n",
    "# Generate a random softmax weight matrix and use it to compute the loss.\n",
    "W = np.random.randn(3073, 10) * 0.0001\n",
    "loss, grad = softmax_loss_naive(W, X_dev, y_dev, 0.0)\n",
    "\n",
    "# As a rough sanity check, our loss should be something close to -log(0.1).\n",
    "print 'loss: %f' % loss\n",
    "print 'sanity check: %f' % (-np.log(0.1))"
   ]
  },
  {
   "cell_type": "markdown",
   "metadata": {},
   "source": [
    "#### Performance comparison b/w np.sum() and vectorized sum"
   ]
  },
  {
   "cell_type": "code",
   "execution_count": 9,
   "metadata": {
    "collapsed": false,
    "deletable": true,
    "editable": true
   },
   "outputs": [
    {
     "name": "stdout",
     "output_type": "stream",
     "text": [
      "1000 loops, best of 3: 455 µs per loop\n",
      "1000 loops, best of 3: 557 µs per loop\n",
      "(1000, 1000)\n"
     ]
    }
   ],
   "source": [
    "shp = (1000,1000)\n",
    "m1 = np.random.uniform(0,1,shp)\n",
    "%timeit np.sum(m1, axis=1)\n",
    "\n",
    "vec = np.ones(m1.shape[1])\n",
    "%timeit m1.dot(vec)\n",
    "print m1.shape"
   ]
  },
  {
   "cell_type": "markdown",
   "metadata": {
    "deletable": true,
    "editable": true
   },
   "source": [
    "## Inline Question 1:\n",
    "Why do we expect our loss to be close to -log(0.1)? Explain briefly.**\n",
    "\n",
    "**Your answer:**\n",
    " - Randomly initialized values between [0,1) scaled by a factor of 0.0001 would be very close to 0. These values are then exponents for e which will be close to exp(0). Since the exp(0) = 1 and we have 10 classes, the ratio between each class score and the total score is close to 0.1\n"
   ]
  },
  {
   "cell_type": "code",
   "execution_count": 80,
   "metadata": {
    "collapsed": false,
    "deletable": true,
    "editable": true
   },
   "outputs": [
    {
     "name": "stdout",
     "output_type": "stream",
     "text": [
      "numerical: 0.410891 analytic: 0.410891, relative error: 1.167848e-07\n",
      "numerical: 1.660401 analytic: 1.660401, relative error: 1.232166e-08\n",
      "numerical: -0.471094 analytic: -0.471094, relative error: 1.319255e-08\n",
      "numerical: 3.256627 analytic: 3.256627, relative error: 5.673342e-09\n",
      "numerical: -0.561582 analytic: -0.561582, relative error: 2.375678e-08\n",
      "numerical: -1.024829 analytic: -1.024829, relative error: 3.246418e-08\n",
      "numerical: -0.558363 analytic: -0.558363, relative error: 2.380024e-08\n",
      "numerical: -0.038199 analytic: -0.038199, relative error: 4.033118e-07\n",
      "numerical: -1.722964 analytic: -1.722964, relative error: 1.974472e-08\n",
      "numerical: 0.728676 analytic: 0.728676, relative error: 3.094832e-08\n",
      "numerical: -0.738082 analytic: -0.738082, relative error: 4.839759e-08\n",
      "numerical: 2.640289 analytic: 2.640289, relative error: 8.164674e-09\n",
      "numerical: 0.744515 analytic: 0.744515, relative error: 2.424717e-08\n",
      "numerical: -0.209861 analytic: -0.209861, relative error: 2.017166e-08\n",
      "numerical: 0.208489 analytic: 0.208489, relative error: 6.117111e-08\n",
      "numerical: -0.193195 analytic: -0.193195, relative error: 1.114329e-07\n",
      "numerical: -1.662241 analytic: -1.662241, relative error: 4.362069e-10\n",
      "numerical: 1.260490 analytic: 1.260490, relative error: 3.976813e-08\n",
      "numerical: -1.000806 analytic: -1.000806, relative error: 2.257335e-08\n",
      "numerical: -0.521765 analytic: -0.521765, relative error: 4.408492e-10\n"
     ]
    }
   ],
   "source": [
    "# Complete the implementation of softmax_loss_naive and implement a (naive)\n",
    "# version of the gradient that uses nested loops.\n",
    "loss, grad = softmax_loss_naive(W, X_dev, y_dev, 0.0)\n",
    "\n",
    "# As we did for the SVM, use numeric gradient checking as a debugging tool.\n",
    "# The numeric gradient should be close to the analytic gradient.\n",
    "from cs231n.gradient_check import grad_check_sparse\n",
    "f = lambda w: softmax_loss_naive(w, X_dev, y_dev, 0.0)[0]\n",
    "grad_numerical = grad_check_sparse(f, W, grad, 10)\n",
    "\n",
    "# similar to SVM case, do another gradient check with regularization\n",
    "loss, grad = softmax_loss_naive(W, X_dev, y_dev, 1e2)\n",
    "f = lambda w: softmax_loss_naive(w, X_dev, y_dev, 1e2)[0]\n",
    "grad_numerical = grad_check_sparse(f, W, grad, 10)"
   ]
  },
  {
   "cell_type": "code",
   "execution_count": 81,
   "metadata": {
    "collapsed": false,
    "deletable": true,
    "editable": true
   },
   "outputs": [
    {
     "name": "stdout",
     "output_type": "stream",
     "text": [
      "naive loss: 2.363455e+00 computed in 0.022508s\n",
      "vectorized loss: 2.363455e+00 computed in 0.020227s\n",
      "Loss difference: 0.000000\n",
      "Gradient difference: 0.000000\n"
     ]
    }
   ],
   "source": [
    "# Now that we have a naive implementation of the softmax loss function and its gradient,\n",
    "# implement a vectorized version in softmax_loss_vectorized.\n",
    "# The two versions should compute the same results, but the vectorized version should be\n",
    "# much faster.\n",
    "tic = time.time()\n",
    "loss_naive, grad_naive = softmax_loss_naive(W, X_dev, y_dev, 0.00001)\n",
    "toc = time.time()\n",
    "print 'naive loss: %e computed in %fs' % (loss_naive, toc - tic)\n",
    "\n",
    "from cs231n.classifiers.softmax import softmax_loss_vectorized\n",
    "tic = time.time()\n",
    "loss_vectorized, grad_vectorized = softmax_loss_vectorized(W, X_dev, y_dev, 0.00001)\n",
    "toc = time.time()\n",
    "print 'vectorized loss: %e computed in %fs' % (loss_vectorized, toc - tic)\n",
    "\n",
    "# As we did for the SVM, we use the Frobenius norm to compare the two versions\n",
    "# of the gradient.\n",
    "grad_difference = np.linalg.norm(grad_naive - grad_vectorized, ord='fro')\n",
    "print 'Loss difference: %f' % np.abs(loss_naive - loss_vectorized)\n",
    "print 'Gradient difference: %f' % grad_difference"
   ]
  },
  {
   "cell_type": "code",
   "execution_count": 87,
   "metadata": {
    "collapsed": false,
    "deletable": true,
    "editable": true
   },
   "outputs": [
    {
     "name": "stdout",
     "output_type": "stream",
     "text": [
      "Lr: 0.000000, rs: 50000.000000\n",
      "iteration 0 / 15000: loss 777.736531\n",
      "iteration 100 / 15000: loss 285.547282\n",
      "iteration 200 / 15000: loss 105.686725\n",
      "iteration 300 / 15000: loss 40.062513\n",
      "iteration 400 / 15000: loss 15.970961\n",
      "iteration 500 / 15000: loss 7.131224\n",
      "iteration 600 / 15000: loss 3.965639\n",
      "iteration 700 / 15000: loss 2.805855\n",
      "iteration 800 / 15000: loss 2.407960\n",
      "iteration 900 / 15000: loss 2.178396\n",
      "iteration 1000 / 15000: loss 2.169837\n",
      "iteration 1100 / 15000: loss 2.080881\n",
      "iteration 1200 / 15000: loss 2.113330\n",
      "iteration 1300 / 15000: loss 2.060719\n",
      "iteration 1400 / 15000: loss 2.132203\n",
      "iteration 1500 / 15000: loss 2.107368\n",
      "iteration 1600 / 15000: loss 2.085390\n",
      "iteration 1700 / 15000: loss 2.091640\n",
      "iteration 1800 / 15000: loss 2.086149\n",
      "iteration 1900 / 15000: loss 2.066245\n",
      "iteration 2000 / 15000: loss 2.101143\n",
      "iteration 2100 / 15000: loss 2.061849\n",
      "iteration 2200 / 15000: loss 2.035256\n",
      "iteration 2300 / 15000: loss 2.070143\n",
      "iteration 2400 / 15000: loss 2.118583\n",
      "iteration 2500 / 15000: loss 2.139507\n",
      "iteration 2600 / 15000: loss 2.078353\n",
      "iteration 2700 / 15000: loss 2.077649\n",
      "iteration 2800 / 15000: loss 2.081702\n",
      "iteration 2900 / 15000: loss 2.079803\n",
      "iteration 3000 / 15000: loss 2.088552\n",
      "iteration 3100 / 15000: loss 2.088233\n",
      "iteration 3200 / 15000: loss 2.054897\n",
      "iteration 3300 / 15000: loss 2.054995\n",
      "iteration 3400 / 15000: loss 2.086573\n",
      "iteration 3500 / 15000: loss 2.075389\n",
      "iteration 3600 / 15000: loss 2.092362\n",
      "iteration 3700 / 15000: loss 2.077438\n",
      "iteration 3800 / 15000: loss 2.113486\n",
      "iteration 3900 / 15000: loss 2.061473\n",
      "iteration 4000 / 15000: loss 2.092249\n",
      "iteration 4100 / 15000: loss 2.042440\n",
      "iteration 4200 / 15000: loss 2.014643\n",
      "iteration 4300 / 15000: loss 2.108579\n",
      "iteration 4400 / 15000: loss 2.098938\n",
      "iteration 4500 / 15000: loss 2.110720\n",
      "iteration 4600 / 15000: loss 2.124706\n",
      "iteration 4700 / 15000: loss 2.067602\n",
      "iteration 4800 / 15000: loss 2.088100\n",
      "iteration 4900 / 15000: loss 2.125279\n",
      "iteration 5000 / 15000: loss 2.142239\n",
      "iteration 5100 / 15000: loss 2.043392\n",
      "iteration 5200 / 15000: loss 2.070772\n",
      "iteration 5300 / 15000: loss 2.104039\n",
      "iteration 5400 / 15000: loss 2.053760\n",
      "iteration 5500 / 15000: loss 2.092282\n",
      "iteration 5600 / 15000: loss 2.058795\n",
      "iteration 5700 / 15000: loss 2.098508\n",
      "iteration 5800 / 15000: loss 2.026302\n",
      "iteration 5900 / 15000: loss 2.043948\n",
      "iteration 6000 / 15000: loss 2.050709\n",
      "iteration 6100 / 15000: loss 2.067141\n",
      "iteration 6200 / 15000: loss 2.066441\n",
      "iteration 6300 / 15000: loss 2.025167\n",
      "iteration 6400 / 15000: loss 2.105267\n",
      "iteration 6500 / 15000: loss 2.115543\n",
      "iteration 6600 / 15000: loss 2.062888\n",
      "iteration 6700 / 15000: loss 2.055464\n",
      "iteration 6800 / 15000: loss 2.074357\n",
      "iteration 6900 / 15000: loss 2.058810\n",
      "iteration 7000 / 15000: loss 2.154197\n",
      "iteration 7100 / 15000: loss 2.070480\n",
      "iteration 7200 / 15000: loss 2.118436\n",
      "iteration 7300 / 15000: loss 2.063988\n",
      "iteration 7400 / 15000: loss 2.049651\n",
      "iteration 7500 / 15000: loss 2.047011\n",
      "iteration 7600 / 15000: loss 2.112476\n",
      "iteration 7700 / 15000: loss 2.045470\n",
      "iteration 7800 / 15000: loss 2.123069\n",
      "iteration 7900 / 15000: loss 2.128238\n",
      "iteration 8000 / 15000: loss 2.091897\n",
      "iteration 8100 / 15000: loss 2.129087\n",
      "iteration 8200 / 15000: loss 2.190668\n",
      "iteration 8300 / 15000: loss 2.075790\n",
      "iteration 8400 / 15000: loss 2.110843\n",
      "iteration 8500 / 15000: loss 2.119476\n",
      "iteration 8600 / 15000: loss 2.098069\n",
      "iteration 8700 / 15000: loss 1.989943\n",
      "iteration 8800 / 15000: loss 2.087196\n",
      "iteration 8900 / 15000: loss 2.081132\n",
      "iteration 9000 / 15000: loss 2.020416\n",
      "iteration 9100 / 15000: loss 2.069158\n",
      "iteration 9200 / 15000: loss 2.136919\n",
      "iteration 9300 / 15000: loss 2.088611\n",
      "iteration 9400 / 15000: loss 2.062953\n",
      "iteration 9500 / 15000: loss 2.118434\n",
      "iteration 9600 / 15000: loss 2.141584\n",
      "iteration 9700 / 15000: loss 2.127340\n",
      "iteration 9800 / 15000: loss 2.113014\n",
      "iteration 9900 / 15000: loss 2.050654\n",
      "iteration 10000 / 15000: loss 2.062888\n",
      "iteration 10100 / 15000: loss 2.098656\n",
      "iteration 10200 / 15000: loss 2.110154\n",
      "iteration 10300 / 15000: loss 2.059025\n",
      "iteration 10400 / 15000: loss 2.070961\n",
      "iteration 10500 / 15000: loss 2.024727\n",
      "iteration 10600 / 15000: loss 2.077662\n",
      "iteration 10700 / 15000: loss 2.061425\n",
      "iteration 10800 / 15000: loss 2.085993\n",
      "iteration 10900 / 15000: loss 2.081552\n",
      "iteration 11000 / 15000: loss 2.084301\n",
      "iteration 11100 / 15000: loss 2.015266\n",
      "iteration 11200 / 15000: loss 2.054625\n",
      "iteration 11300 / 15000: loss 2.046080\n",
      "iteration 11400 / 15000: loss 2.076001\n",
      "iteration 11500 / 15000: loss 2.055056\n",
      "iteration 11600 / 15000: loss 2.149692\n",
      "iteration 11700 / 15000: loss 2.094580\n",
      "iteration 11800 / 15000: loss 2.083449\n",
      "iteration 11900 / 15000: loss 2.055079\n",
      "iteration 12000 / 15000: loss 2.104070\n",
      "iteration 12100 / 15000: loss 2.102749\n",
      "iteration 12200 / 15000: loss 2.060814\n",
      "iteration 12300 / 15000: loss 2.056758\n",
      "iteration 12400 / 15000: loss 2.070638\n",
      "iteration 12500 / 15000: loss 2.150382\n",
      "iteration 12600 / 15000: loss 2.051856\n",
      "iteration 12700 / 15000: loss 2.067740\n",
      "iteration 12800 / 15000: loss 2.121778\n",
      "iteration 12900 / 15000: loss 2.105716\n",
      "iteration 13000 / 15000: loss 2.079870\n",
      "iteration 13100 / 15000: loss 2.095272\n",
      "iteration 13200 / 15000: loss 2.080862\n",
      "iteration 13300 / 15000: loss 2.068218\n",
      "iteration 13400 / 15000: loss 2.043407\n",
      "iteration 13500 / 15000: loss 2.083098\n",
      "iteration 13600 / 15000: loss 2.086252\n",
      "iteration 13700 / 15000: loss 2.105141\n",
      "iteration 13800 / 15000: loss 2.097728\n",
      "iteration 13900 / 15000: loss 2.097022\n",
      "iteration 14000 / 15000: loss 2.040645\n",
      "iteration 14100 / 15000: loss 2.111798\n",
      "iteration 14200 / 15000: loss 2.110620\n",
      "iteration 14300 / 15000: loss 2.059694\n",
      "iteration 14400 / 15000: loss 2.082778\n",
      "iteration 14500 / 15000: loss 2.152581\n",
      "iteration 14600 / 15000: loss 2.087380\n",
      "iteration 14700 / 15000: loss 2.017068\n",
      "iteration 14800 / 15000: loss 2.090417\n",
      "iteration 14900 / 15000: loss 2.075852\n",
      "lr 1.000000e-07 reg 5.000000e+04 train accuracy: 0.323816 val accuracy: 0.334000\n",
      "best validation accuracy achieved during cross-validation: 0.334000\n"
     ]
    }
   ],
   "source": [
    "# Use the validation set to tune hyperparameters (regularization strength and\n",
    "# learning rate). You should experiment with different ranges for the learning\n",
    "# rates and regularization strengths; if you are careful you should be able to\n",
    "# get a classification accuracy of over 0.35 on the validation set.\n",
    "from cs231n.classifiers import Softmax\n",
    "results = {}\n",
    "best_val = -1\n",
    "best_softmax = None\n",
    "# learning_rates = [1e-7, 5e-7]\n",
    "# regularization_strengths = [5e4, 1e8]\n",
    "learning_rates = [1e-7]\n",
    "regularization_strengths = [5e4]\n",
    "\n",
    "################################################################################\n",
    "# TODO:                                                                        #\n",
    "# Use the validation set to set the learning rate and regularization strength. #\n",
    "# This should be identical to the validation that you did for the SVM; save    #\n",
    "# the best trained softmax classifer in best_softmax.                          #\n",
    "################################################################################\n",
    "for lr in learning_rates:\n",
    "    for rs in regularization_strengths:\n",
    "        print \"Lr: %f, rs: %f\" % (lr, rs)\n",
    "        sm = Softmax()\n",
    "        loss_hist = sm.train(X_train, y_train, learning_rate=lr, reg=rs,\n",
    "                      num_iters=15000, verbose=True)\n",
    "        y_train_acc = np.mean(y_train == sm.predict(X_train))\n",
    "        y_val_acc = np.mean(y_val == sm.predict(X_val))\n",
    "        if y_val_acc > best_val:\n",
    "            best_val = y_val_acc\n",
    "            best_softmax = sm\n",
    "        results[(lr, rs)] = (y_train_acc, y_val_acc)\n",
    "################################################################################\n",
    "#                              END OF YOUR CODE                                #\n",
    "################################################################################\n",
    "    \n",
    "# Print out results.\n",
    "for lr, reg in sorted(results):\n",
    "    train_accuracy, val_accuracy = results[(lr, reg)]\n",
    "    print 'lr %e reg %e train accuracy: %f val accuracy: %f' % (\n",
    "                lr, reg, train_accuracy, val_accuracy)\n",
    "    \n",
    "print 'best validation accuracy achieved during cross-validation: %f' % best_val"
   ]
  },
  {
   "cell_type": "code",
   "execution_count": 85,
   "metadata": {
    "collapsed": false,
    "deletable": true,
    "editable": true
   },
   "outputs": [
    {
     "name": "stdout",
     "output_type": "stream",
     "text": [
      "softmax on raw pixels final test set accuracy: 0.341000\n"
     ]
    }
   ],
   "source": [
    "# evaluate on test set\n",
    "# Evaluate the best softmax on test set\n",
    "y_test_pred = best_softmax.predict(X_test)\n",
    "test_accuracy = np.mean(y_test == y_test_pred)\n",
    "print 'softmax on raw pixels final test set accuracy: %f' % (test_accuracy, )"
   ]
  },
  {
   "cell_type": "code",
   "execution_count": 86,
   "metadata": {
    "collapsed": false,
    "deletable": true,
    "editable": true
   },
   "outputs": [
    {
     "data": {
      "image/png": "[encoded data removed]",
      "text/plain": [
       "<matplotlib.figure.Figure at 0x7f5941506c10>"
      ]
     },
     "metadata": {},
     "output_type": "display_data"
    }
   ],
   "source": [
    "# Visualize the learned weights for each class\n",
    "w = best_softmax.W[:-1,:] # strip out the bias\n",
    "w = w.reshape(32, 32, 3, 10)\n",
    "\n",
    "w_min, w_max = np.min(w), np.max(w)\n",
    "\n",
    "classes = ['plane', 'car', 'bird', 'cat', 'deer', 'dog', 'frog', 'horse', 'ship', 'truck']\n",
    "for i in xrange(10):\n",
    "  plt.subplot(2, 5, i + 1)\n",
    "  \n",
    "  # Rescale the weights to be between 0 and 255\n",
    "  wimg = 255.0 * (w[:, :, :, i].squeeze() - w_min) / (w_max - w_min)\n",
    "  plt.imshow(wimg.astype('uint8'))\n",
    "  plt.axis('off')\n",
    "  plt.title(classes[i])"
   ]
  },
  {
   "cell_type": "code",
   "execution_count": null,
   "metadata": {
    "collapsed": true
   },
   "outputs": [],
   "source": []
  }
 ],
 "metadata": {
  "kernelspec": {
   "display_name": "Python 2",
   "language": "python",
   "name": "python2"
  },
  "language_info": {
   "codemirror_mode": {
    "name": "ipython",
    "version": 2
   },
   "file_extension": ".py",
   "mimetype": "text/x-python",
   "name": "python",
   "nbconvert_exporter": "python",
   "pygments_lexer": "ipython2",
   "version": "2.7.12"
  }
 },
 "nbformat": 4,
 "nbformat_minor": 0
}
