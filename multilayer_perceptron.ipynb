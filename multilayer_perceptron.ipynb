{
 "cells": [
  {
   "cell_type": "code",
   "execution_count": 1,
   "metadata": {
    "collapsed": true
   },
   "outputs": [],
   "source": [
    "import numpy as np"
   ]
  },
  {
   "cell_type": "code",
   "execution_count": 2,
   "metadata": {
    "collapsed": false
   },
   "outputs": [
    {
     "name": "stdout",
     "output_type": "stream",
     "text": [
      "(2,)\n",
      "(2, 2)\n",
      "(2, 2)\n",
      "[ 0.35  0.35]\n",
      "[ 0.6  0.6]\n"
     ]
    }
   ],
   "source": [
    "input = np.array([ 0.05, .1])\n",
    "y = np.array([.01, .99])\n",
    "w1 = np.array([[.15, .2],[.25, .3]])\n",
    "w2 = np.array([[.4, .45],[.5, .55]])\n",
    "b1 = np.array([.35, .35])\n",
    "b2 = np.array([.6, .6])\n",
    "\n",
    "print input.shape\n",
    "print w1.shape\n",
    "print w2.shape\n",
    "print b1\n",
    "print b2"
   ]
  },
  {
   "cell_type": "code",
   "execution_count": 3,
   "metadata": {
    "collapsed": false
   },
   "outputs": [
    {
     "name": "stdout",
     "output_type": "stream",
     "text": [
      "[ 0.3775  0.3925]\n",
      "[ 0.59326999  0.59688438]\n"
     ]
    }
   ],
   "source": [
    "neth1 = input.dot(w1.T) + b1\n",
    "oh1 = 1 / (1 + np.exp(-neth1))\n",
    "\n",
    "print neth1\n",
    "print oh1"
   ]
  },
  {
   "cell_type": "code",
   "execution_count": 4,
   "metadata": {
    "collapsed": false
   },
   "outputs": [
    {
     "name": "stdout",
     "output_type": "stream",
     "text": [
      "[ 1.10590597  1.2249214 ]\n",
      "[ 0.75136507  0.77292847]\n"
     ]
    }
   ],
   "source": [
    "neto1 = oh1.dot(w2.T) + b2\n",
    "oo1 = 1 / (1 + np.exp(-neto1))\n",
    "\n",
    "print neto1\n",
    "print oo1"
   ]
  },
  {
   "cell_type": "code",
   "execution_count": 5,
   "metadata": {
    "collapsed": false
   },
   "outputs": [
    {
     "name": "stdout",
     "output_type": "stream",
     "text": [
      "[-0.74136507  0.21707153]\n",
      "[ 0.27481108  0.02356003]\n",
      "0.29837110876\n"
     ]
    }
   ],
   "source": [
    "diff = y - oo1\n",
    "e = np.square(diff) / 2\n",
    "etot = np.sum(e)\n",
    "\n",
    "print diff\n",
    "print e\n",
    "print etot"
   ]
  },
  {
   "cell_type": "code",
   "execution_count": 6,
   "metadata": {
    "collapsed": false
   },
   "outputs": [
    {
     "name": "stdout",
     "output_type": "stream",
     "text": [
      "[[ 0.74136507 -0.21707153]]\n",
      "[[ 0.1868156   0.17551005]]\n",
      "[[ 0.13849856  0.13849856]\n",
      " [-0.03809824 -0.03809824]]\n",
      "[ 0.59326999  0.59688438]\n",
      "[[ 0.08216704  0.08266763]\n",
      " [-0.02260254 -0.02274024]]\n"
     ]
    }
   ],
   "source": [
    "de = (-diff)[np.newaxis]\n",
    "doo1 = (oo1 * (1 - oo1))[np.newaxis]\n",
    "de_dneto1 = de.T * np.repeat(doo1.T,2,axis=1)\n",
    "dneto1 = oh1\n",
    "dw2 = de_dneto1 * dneto1\n",
    "\n",
    "print de\n",
    "print doo1\n",
    "print de_dneto1\n",
    "print dneto1\n",
    "print dw2"
   ]
  },
  {
   "cell_type": "code",
   "execution_count": 7,
   "metadata": {
    "collapsed": false
   },
   "outputs": [
    {
     "name": "stdout",
     "output_type": "stream",
     "text": [
      "[[ 0.05539942  0.06232435]\n",
      " [-0.01904912 -0.02095403]]\n",
      "[ 0.03635031  0.04137032]\n",
      "[[ 0.24130071  0.24061342]]\n",
      "[[ 0.00877135  0.00998269]\n",
      " [ 0.00874637  0.00995425]]\n",
      "[ 0.05  0.1 ]\n",
      "[[ 0.00043857  0.00099827]\n",
      " [ 0.00043732  0.00099543]]\n",
      "[[ 0.14978072  0.19950087]\n",
      " [ 0.24978134  0.29950229]]\n"
     ]
    }
   ],
   "source": [
    "de_doh = de_dneto1 * w2 # effects of oh\n",
    "detot_doh = np.sum(de_doh, axis=0) # total effect of oh per h\n",
    "dh_dnet = (dneto1 * (1 - dneto1))[np.newaxis]\n",
    "de_dneth = detot_doh.T * np.repeat(dh_dnet.T, 2, axis=1)\n",
    "dneth_dw1 = input\n",
    "detot_dw1 = de_dneth * dneth_dw1\n",
    "\n",
    "print de_doh\n",
    "print detot_doh\n",
    "print dh_dnet\n",
    "print de_dneth\n",
    "print dneth_dw1\n",
    "print detot_dw1\n",
    "print w1 - (0.5*detot_dw1)"
   ]
  },
  {
   "cell_type": "code",
   "execution_count": 8,
   "metadata": {
    "collapsed": false
   },
   "outputs": [
    {
     "name": "stdout",
     "output_type": "stream",
     "text": [
      "iteration of 1\n",
      "0.29837110876\n",
      "[ 0.75136507  0.77292847]\n",
      "0.291027741322\n",
      "[ 0.74208804  0.77528487]\n",
      "0.283546901012\n",
      "[ 0.73247651  0.77758179]\n",
      "0.275942706531\n",
      "[ 0.72253799  0.77982144]\n",
      "0.268231699643\n",
      "[ 0.71228333  0.78200596]\n",
      "0.260432749382\n",
      "[ 0.70172688  0.78413738]\n",
      "0.252566878376\n",
      "[ 0.69088656  0.78621763]\n",
      "0.244657008763\n",
      "[ 0.67978383  0.78824856]\n",
      "0.236727629819\n",
      "[ 0.6684436   0.79023194]\n",
      "0.228804394575\n",
      "[ 0.65689401  0.79216944]\n",
      "[ 0.64516603  0.79406268]\n"
     ]
    }
   ],
   "source": [
    "def forward_prop(input, w1, b1, w2, b2):\n",
    "    neth1 = input.dot(w1.T) + b1\n",
    "    oh1 = 1 / (1 + np.exp(-neth1))\n",
    "    \n",
    "    neto1 = oh1.dot(w2.T) + b2\n",
    "    oo1 = 1 / (1 + np.exp(-neto1))\n",
    "\n",
    "    return oo1\n",
    "\n",
    "def print_loss(y, out):\n",
    "    diff = y - oo1\n",
    "    e = np.square(diff) / 2\n",
    "    etot = np.sum(e)\n",
    "    \n",
    "    print etot\n",
    "\n",
    "def backprop(out, y, w1, b1, w2, b2):\n",
    "    diff = y - out\n",
    "    de = (-diff)[np.newaxis]\n",
    "    doo1 = (out * (1 - out))[np.newaxis]\n",
    "    de_dneto1 = de.T * np.repeat(doo1.T,2,axis=1)\n",
    "    dneto1 = oh1\n",
    "    dw2 = de_dneto1 * dneto1\n",
    "    \n",
    "    de_doh = de_dneto1 * w2 # effects of oh\n",
    "    detot_doh = np.sum(de_doh, axis=0) # total effect of oh per h\n",
    "    dh_dnet = (dneto1 * (1 - dneto1))[np.newaxis]\n",
    "    de_dneth = detot_doh.T * np.repeat(dh_dnet.T, 2, axis=1)\n",
    "    dneth_dw1 = input\n",
    "    dw1 = de_dneth * dneth_dw1\n",
    "    return dw1, dw2\n",
    "\n",
    "def backprop_bias(out, y, w1, b1, w2, b2):\n",
    "    diff = y - out\n",
    "    de = (-diff)[np.newaxis]\n",
    "    doo1 = (out * (1 - out))[np.newaxis]\n",
    "    de_dneto1 = de.T * np.repeat(doo1.T,2,axis=1)\n",
    "    dneto1 = oh1\n",
    "    dw2 = de_dneto1 * dneto1\n",
    "    \n",
    "    \n",
    "    \n",
    "    de_doh = de_dneto1 * w2 # effects of oh\n",
    "    detot_doh = np.sum(de_doh, axis=0) # total effect of oh per h\n",
    "    dh_dnet = (dneto1 * (1 - dneto1))[np.newaxis]\n",
    "    de_dneth = detot_doh.T * np.repeat(dh_dnet.T, 2, axis=1)\n",
    "    dneth_dw1 = input\n",
    "    dw1 = de_dneth * dneth_dw1\n",
    "    return dw1, dw2\n",
    "\n",
    "iteration = 10\n",
    "learn_rate = 0.5\n",
    "input = np.array([ 0.05, .1])\n",
    "y = np.array([.01, .99])\n",
    "w1 = np.array([[.15, .2],[.25, .3]])\n",
    "w2 = np.array([[.4, .45],[.5, .55]])\n",
    "b1 = np.array([.35, .35])\n",
    "b2 = np.array([.6, .6])\n",
    "modu = iteration / 10\n",
    "print \"iteration of\", modu\n",
    "for i in range(iteration):\n",
    "    oo1 = forward_prop(input, w1, b1, w2, b2)\n",
    "    if i % modu == 0: print_loss(y, oo1); print oo1\n",
    "    grads_w1, grads_w2 = backprop(oo1, y, w1, b1, w2, b2)\n",
    "    w1 = w1 - (learn_rate * grads_w1)\n",
    "    w2 = w2 - (learn_rate * grads_w2)\n",
    "\n",
    "oo1 = forward_prop(input, w1, b1, w2, b2)\n",
    "print oo1"
   ]
  },
  {
   "cell_type": "code",
   "execution_count": 16,
   "metadata": {
    "collapsed": false
   },
   "outputs": [
    {
     "name": "stdout",
     "output_type": "stream",
     "text": [
      "0.0 0.0 [ 0.64515362  0.7923108 ]\n",
      "0.0 0.1 [ 0.64516158  0.79356219]\n",
      "0.0 0.2 [ 0.64516943  0.79480198]\n",
      "0.0 0.3 [ 0.64517718  0.79602988]\n",
      "0.0 0.4 [ 0.64518481  0.7972456 ]\n",
      "0.0 0.5 [ 0.64519231  0.79844888]\n",
      "0.0 0.6 [ 0.64519968  0.79963945]\n",
      "0.0 0.7 [ 0.64520691  0.80081709]\n",
      "0.0 0.8 [ 0.64521399  0.80198156]\n",
      "0.0 0.9 [ 0.64522091  0.80313268]\n",
      "\n",
      "0.1 0.0 [ 0.6451626   0.79331923]\n",
      "0.1 0.1 [ 0.64517046  0.79456126]\n",
      "0.1 0.2 [ 0.64517822  0.79579144]\n",
      "0.1 0.3 [ 0.64518586  0.7970095 ]\n",
      "0.1 0.4 [ 0.64519337  0.79821516]\n",
      "0.1 0.5 [ 0.64520076  0.79940816]\n",
      "0.1 0.6 [ 0.645208    0.80058827]\n",
      "0.1 0.7 [ 0.64521509  0.80175525]\n",
      "0.1 0.8 [ 0.64522202  0.8029089 ]\n",
      "0.1 0.9 [ 0.64522879  0.80404903]\n",
      "\n",
      "0.2 0.0 [ 0.64517149  0.7943201 ]\n",
      "0.2 0.1 [ 0.64517926  0.79555256]\n",
      "0.2 0.2 [ 0.64518691  0.79677294]\n",
      "0.2 0.3 [ 0.64519443  0.79798098]\n",
      "0.2 0.4 [ 0.64520183  0.7991764 ]\n",
      "0.2 0.5 [ 0.64520908  0.80035896]\n",
      "0.2 0.6 [ 0.64521619  0.80152845]\n",
      "0.2 0.7 [ 0.64522314  0.80268464]\n",
      "0.2 0.8 [ 0.64522992  0.80382734]\n",
      "0.2 0.9 [ 0.64523654  0.80495637]\n",
      "\n",
      "0.3 0.0 [ 0.6451803   0.79531323]\n",
      "0.3 0.1 [ 0.64518796  0.79653593]\n",
      "0.3 0.2 [ 0.6451955   0.79774633]\n",
      "0.3 0.3 [ 0.6452029   0.79894416]\n",
      "0.3 0.4 [ 0.64521017  0.80012918]\n",
      "0.3 0.5 [ 0.64521729  0.80130115]\n",
      "0.3 0.6 [ 0.64522425  0.80245987]\n",
      "0.3 0.7 [ 0.64523105  0.80360514]\n",
      "0.3 0.8 [ 0.64523769  0.80473676]\n",
      "0.3 0.9 [ 0.64524414  0.80585459]\n",
      "\n",
      "0.4 0.0 [ 0.64518901  0.79629846]\n",
      "0.4 0.1 [ 0.64519656  0.79751122]\n",
      "0.4 0.2 [ 0.64520398  0.79871145]\n",
      "0.4 0.3 [ 0.64521126  0.79989892]\n",
      "0.4 0.4 [ 0.64521839  0.80107338]\n",
      "0.4 0.5 [ 0.64522537  0.80223462]\n",
      "0.4 0.6 [ 0.64523219  0.80338244]\n",
      "0.4 0.7 [ 0.64523884  0.80451666]\n",
      "0.4 0.8 [ 0.64524531  0.8056371 ]\n",
      "0.4 0.9 [ 0.6452516  0.8067436]\n",
      "\n",
      "0.5 0.0 [ 0.64519762  0.79727565]\n",
      "0.5 0.1 [ 0.64520505  0.79847828]\n",
      "0.5 0.2 [ 0.64521234  0.79966818]\n",
      "0.5 0.3 [ 0.64521949  0.80084512]\n",
      "0.5 0.4 [ 0.64522648  0.80200888]\n",
      "0.5 0.5 [ 0.64523332  0.80315925]\n",
      "0.5 0.6 [ 0.64523998  0.80429605]\n",
      "0.5 0.7 [ 0.64524648  0.8054191 ]\n",
      "0.5 0.8 [ 0.64525279  0.80652825]\n",
      "0.5 0.9 [ 0.64525891  0.80762335]\n",
      "\n",
      "0.6 0.0 [ 0.64520612  0.79824463]\n",
      "0.6 0.1 [ 0.64521343  0.79943696]\n",
      "0.6 0.2 [ 0.64522059  0.80061638]\n",
      "0.6 0.3 [ 0.6452276   0.80178264]\n",
      "0.6 0.4 [ 0.64523445  0.80293556]\n",
      "0.6 0.5 [ 0.64524113  0.80407493]\n",
      "0.6 0.6 [ 0.64524764  0.80520059]\n",
      "0.6 0.7 [ 0.64525397  0.80631237]\n",
      "0.6 0.8 [ 0.64526011  0.80741013]\n",
      "0.6 0.9 [ 0.64526607  0.80849375]\n",
      "\n",
      "0.7 0.0 [ 0.64521452  0.79920528]\n",
      "0.7 0.1 [ 0.64522169  0.80038715]\n",
      "0.7 0.2 [ 0.64522872  0.80155592]\n",
      "0.7 0.3 [ 0.64523558  0.80271138]\n",
      "0.7 0.4 [ 0.64524228  0.80385332]\n",
      "0.7 0.5 [ 0.64524881  0.80498158]\n",
      "0.7 0.6 [ 0.64525515  0.80609599]\n",
      "0.7 0.7 [ 0.64526132  0.80719641]\n",
      "0.7 0.8 [ 0.64526729  0.80828269]\n",
      "0.7 0.9 [ 0.64527307  0.80935474]\n",
      "\n",
      "0.8 0.0 [ 0.6452228   0.80015745]\n",
      "0.8 0.1 [ 0.64522983  0.80132871]\n",
      "0.8 0.2 [ 0.64523671  0.8024867 ]\n",
      "0.8 0.3 [ 0.64524343  0.80363121]\n",
      "0.8 0.4 [ 0.64524997  0.80476206]\n",
      "0.8 0.5 [ 0.64525634  0.8058791 ]\n",
      "0.8 0.6 [ 0.64526252  0.80698216]\n",
      "0.8 0.7 [ 0.64526851  0.80807112]\n",
      "0.8 0.8 [ 0.64527431  0.80914586]\n",
      "0.8 0.9 [ 0.6452799   0.81020626]\n",
      "\n",
      "0.9 0.0 [ 0.64523095  0.80110102]\n",
      "0.9 0.1 [ 0.64523785  0.80226153]\n",
      "0.9 0.2 [ 0.64524458  0.8034086 ]\n",
      "0.9 0.3 [ 0.64525114  0.80454204]\n",
      "0.9 0.4 [ 0.64525752  0.8056617 ]\n",
      "0.9 0.5 [ 0.64526372  0.80676741]\n",
      "0.9 0.6 [ 0.64526973  0.80785903]\n",
      "0.9 0.7 [ 0.64527555  0.80893645]\n",
      "0.9 0.8 [ 0.64528116  0.80999957]\n",
      "0.9 0.9 [ 0.64528658  0.81104827]\n",
      "\n"
     ]
    }
   ],
   "source": [
    "import matplotlib.pyplot as plt\n",
    "%matplotlib inline\n",
    "\n",
    "for i in range(10):\n",
    "    for j in range(10):\n",
    "        scale = 0.1\n",
    "        print i*scale,j*scale,forward_prop(np.array([i*scale,j*scale]), w1,b1,w2,b2)\n",
    "    print"
   ]
  },
  {
   "cell_type": "code",
   "execution_count": null,
   "metadata": {
    "collapsed": true
   },
   "outputs": [],
   "source": [
    ""
   ]
  }
 ],
 "metadata": {
  "kernelspec": {
   "display_name": "Python 2",
   "language": "python",
   "name": "python2"
  },
  "language_info": {
   "codemirror_mode": {
    "name": "ipython",
    "version": 2.0
   },
   "file_extension": ".py",
   "mimetype": "text/x-python",
   "name": "python",
   "nbconvert_exporter": "python",
   "pygments_lexer": "ipython2",
   "version": "2.7.12"
  }
 },
 "nbformat": 4,
 "nbformat_minor": 0
}